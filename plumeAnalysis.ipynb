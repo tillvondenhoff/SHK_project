{
 "cells": [
  {
   "cell_type": "markdown",
   "metadata": {},
   "source": [
    "This Notebook is created to analyse given Plume data.\n",
    "-"
   ]
  },
  {
   "cell_type": "markdown",
   "metadata": {},
   "source": [
    "prop_20160611_c_mask_100c_mark_200_cf2_mf1.pkl\n",
    "prop_20160611_micro_c_mask_100c_mark_200_cf2_mf1.pkl\n",
    "prop_20150606_c_mask_100c_mark_200_cf2_mf1.pkl\n",
    "prop_20150609_c_mask_100c_mark_200_cf2_mf1.pkl\n",
    "\n",
    "\n",
    "prop_20150627_c_mask_100c_mark_200_cf2_mf1.pkl\n",
    "prop_20160518_c_mask_100c_mark_200_cf2_mf1.pkl\n",
    "prop_20160530_c_mask_100c_mark_200_cf2_mf1.pkl\n",
    "prop_20160619_c_mask_100c_mark_200_cf2_mf1.pkl\n",
    "prop_20160625_c_mask_100c_mark_200_cf2_mf1.pkl\n",
    "prop_20160719_c_mask_100c_mark_200_cf2_mf1.pkl\n",
    "prop_20160818_c_mask_100c_mark_200_cf2_mf1.pkl\n",
    "prop_20160819_c_mask_100c_mark_200_cf2_mf1.pkl\n",
    "prop_20160830_c_mask_100c_mark_200_cf2_mf1.pkl\n",
    "prop_20170509_c_mask_100c_mark_200_cf2_mf1.pkl\n",
    "prop_20170605_c_mask_100c_mark_200_cf2_mf1.pkl\n",
    "prop_20170627_c_mask_100c_mark_200_cf2_mf1.pkl\n",
    "prop_20170704_c_mask_100c_mark_200_cf2_mf1.pkl\n",
    "prop_20170716_c_mask_100c_mark_200_cf2_mf1.pkl\n",
    "prop_20170719_c_mask_100c_mark_200_cf2_mf1.pkl\n",
    "prop_20170721_c_mask_100c_mark_200_cf2_mf1.pkl\n",
    "prop_20180522_c_mask_100c_mark_200_cf2_mf1.pkl\n",
    "prop_20180606_c_mask_100c_mark_200_cf2_mf1.pkl\n",
    "prop_20180705_c_mask_100c_mark_200_cf2_mf1.pkl\n",
    "prop_20180709_c_mask_100c_mark_200_cf2_mf1.pkl\n",
    "prop_20180710_c_mask_100c_mark_200_cf2_mf1.pkl"
   ]
  },
  {
   "cell_type": "code",
   "execution_count": 80,
   "metadata": {},
   "outputs": [],
   "source": [
    "import numpy as np\n",
    "from importlib import reload\n",
    "import pandas as pd\n",
    "import slopes_and_binning\n",
    "from slopes_and_binning import *\n",
    "reload(slopes_and_binning)\n",
    "import cloud_and_plumes_slopes\n",
    "from cloud_and_plumes_slopes import *\n",
    "reload(cloud_and_plumes_slopes)\n",
    "from netCDF4 import Dataset\n",
    "import matplotlib.pyplot as plt\n",
    "import scipy.ndimage as ndi\n",
    "from random import random\n",
    "import matplotlib\n",
    "import sys"
   ]
  },
  {
   "cell_type": "code",
   "execution_count": 116,
   "metadata": {},
   "outputs": [
    {
     "data": {
      "text/plain": [
       "Index(['Volume', 'sq Area', 'Radius', 'Area', 'height', 'V_h', 'w',\n",
       "       'w profile', 'ql profile', 'qv profile', 'Area profile', 'couv profile',\n",
       "       'wet h', 'wet A', 'wet V', 'wet w', 'dry h', 'dry A', 'dry V', 'dry w',\n",
       "       'time', 'x', 'y', 'z', 'base', 'z max cf', 'w flux', 'qt flux',\n",
       "       'qt total flux', 'qt fluc'],\n",
       "      dtype='object')"
      ]
     },
     "execution_count": 116,
     "metadata": {},
     "output_type": "execute_result"
    }
   ],
   "source": [
    "plumes_data = './data/prop_20150609_c_mask_100c_mark_200_cf2_mf1.pkl'\n",
    "prop_plumes = pd.read_pickle(plumes_data)\n",
    "prop_plumes.columns"
   ]
  },
  {
   "cell_type": "markdown",
   "metadata": {},
   "source": [
    "----------------------------------------------------\n",
    "Let's have a look at the variation of alpha over time\n",
    "-\n",
    "plot_plumes_slope() uses log binning"
   ]
  },
  {
   "cell_type": "markdown",
   "metadata": {},
   "source": [
    "plot_plume_alpha() uses all 3 methods for slope calculation\n",
    "-"
   ]
  },
  {
   "cell_type": "code",
   "execution_count": 119,
   "metadata": {},
   "outputs": [
    {
     "data": {
      "text/plain": [
       "<matplotlib.legend.Legend at 0x7fde5e80a198>"
      ]
     },
     "execution_count": 119,
     "metadata": {},
     "output_type": "execute_result"
    },
    {
     "data": {
      "image/png": "[encoded data removed]",
      "text/plain": [
       "<Figure size 432x288 with 2 Axes>"
      ]
     },
     "metadata": {
      "needs_background": "light"
     },
     "output_type": "display_data"
    }
   ],
   "source": [
    "import numpy as np\n",
    "from importlib import reload\n",
    "import pandas as pd\n",
    "import slopes_and_binning\n",
    "from slopes_and_binning import *\n",
    "reload(slopes_and_binning)\n",
    "import cloud_and_plumes_slopes\n",
    "from cloud_and_plumes_slopes import *\n",
    "reload(cloud_and_plumes_slopes)\n",
    "import matplotlib.pyplot as plt\n",
    "\n",
    "bin_n     = 150\n",
    "bin_min   = 10\n",
    "bin_max   = 750\n",
    "min_pixel = 4\n",
    "\n",
    "plumes_time_area = prop_plumes[['time','sq Area']]\n",
    "#del(prop_plumes)\n",
    "plumes_time_area = plumes_time_area.loc[plumes_time_area['sq Area']<25600]\n",
    "\n",
    "time, n_plumes, slope_lin, slope_log, slope_com = plot_plume_alpha(plumes_time_area,bin_n,bin_min,bin_max,min_pixel,n_plume_min=500)\n",
    "\n",
    "axes = plt\n",
    "\n",
    "axes.bar(time, n_plumes, color='lightsteelblue')\n",
    "axes.xlabel('Time')\n",
    "axes.ylabel('Number of plumes')\n",
    "axes.title('distribution with log scales')\n",
    "\n",
    "axes2 = axes.twinx()\n",
    "\n",
    "axes2.set_ylabel('Alpha')\n",
    "axes2.plot(time, slope_lin, linewidth=3, color='gold', label='lin')\n",
    "axes2.plot(time, slope_log, linewidth=3, color='orange', label='log')\n",
    "axes2.plot(time, slope_com, linewidth=3, color='orangered', label='com')\n",
    "\n",
    "plt.legend()"
   ]
  },
  {
   "cell_type": "code",
   "execution_count": null,
   "metadata": {},
   "outputs": [],
   "source": []
  }
 ],
 "metadata": {
  "kernelspec": {
   "display_name": "Python 3",
   "language": "python",
   "name": "python3"
  },
  "language_info": {
   "codemirror_mode": {
    "name": "ipython",
    "version": 3
   },
   "file_extension": ".py",
   "mimetype": "text/x-python",
   "name": "python",
   "nbconvert_exporter": "python",
   "pygments_lexer": "ipython3",
   "version": "3.6.9"
  }
 },
 "nbformat": 4,
 "nbformat_minor": 4
}
